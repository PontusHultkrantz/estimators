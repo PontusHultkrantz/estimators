{
 "cells": [
  {
   "cell_type": "markdown",
   "metadata": {},
   "source": [
    "# Estimate upper bound of uniform dist\n",
    "$\\mathcal{U}(0, \\theta)$"
   ]
  },
  {
   "cell_type": "code",
   "execution_count": 17,
   "metadata": {},
   "outputs": [
    {
     "name": "stdout",
     "output_type": "stream",
     "text": [
      "Mean Squared Error\n",
      "naive_est, mle_ub_est, mmse_est, strat_biased, strat_unbiased\n",
      "[0.828 0.207 0.205 0.545 0.73 ]\n"
     ]
    }
   ],
   "source": [
    "import numpy as np\n",
    "import scipy.stats as stats\n",
    "from matplotlib import pyplot as plt\n",
    "\n",
    "theta = 5\n",
    "nsamp = 10\n",
    "nsim = 10000\n",
    "\n",
    "def mse(est):\n",
    "    return (est - theta)**2\n",
    "\n",
    "def naive_est(x):\n",
    "    return 2*np.mean(x)\n",
    "\n",
    "def mle_ub_est(x):\n",
    "    ssize = x.shape[0]\n",
    "    return (ssize + 1)/ssize * np.max(x)\n",
    "\n",
    "def mmse_est(x):\n",
    "    ssize = x.shape[0]\n",
    "    return (ssize + 2)/(ssize + 1) * np.max(x)\n",
    "\n",
    "def stratify_uniform_slope(y, intercept = True):\n",
    "    nsize = y.shape[0]\n",
    "    x = (np.arange(nsize) + 1) / (nsize + 1)\n",
    "    x_aligned = np.sort(x)\n",
    "    y_aligned = np.sort(y)\n",
    "    \n",
    "    endog = y_aligned\n",
    "    if intercept:\n",
    "        exog = np.column_stack([np.ones_like(x_aligned), x_aligned])\n",
    "        param_hat = np.linalg.inv(exog.T @ exog) @ exog.T @ endog\n",
    "    else:\n",
    "        exog = x_aligned\n",
    "        param_hat = np.array([1/np.sum(exog**2) * np.sum(exog * endog)])\n",
    "    \n",
    "    return param_hat[-1]\n",
    "\n",
    "def strat_biased(x):\n",
    "    return stratify_uniform_slope(x, intercept=False)\n",
    "\n",
    "def strat_unbiased(x):\n",
    "    return stratify_uniform_slope(x, intercept=True)\n",
    "\n",
    "\n",
    "estimators = [naive_est, mle_ub_est, mmse_est, strat_biased, strat_unbiased]\n",
    "\n",
    "est_mse = np.empty((nsim, len(estimators)))\n",
    "for i in range(nsim):\n",
    "    x = np.random.uniform(0, theta, nsamp)\n",
    "    est_mse[i,:] = np.array([mse(est(x)) for est in estimators])\n",
    "    \n",
    "    \n",
    "est = np.mean(est_mse, axis=0)    \n",
    "est_names = [e.__name__ for e in estimators]\n",
    "print('Mean Squared Error')\n",
    "print(', '.join(est_names))\n",
    "print(np.around(est, 3))\n"
   ]
  }
 ],
 "metadata": {
  "kernelspec": {
   "display_name": "Python 3.7.3 64-bit ('ProgramData': virtualenv)",
   "language": "python",
   "name": "python37364bitprogramdatavirtualenv59ae48332b0b4b33804568dd65329faa"
  },
  "language_info": {
   "codemirror_mode": {
    "name": "ipython",
    "version": 3
   },
   "file_extension": ".py",
   "mimetype": "text/x-python",
   "name": "python",
   "nbconvert_exporter": "python",
   "pygments_lexer": "ipython3",
   "version": "3.7.3"
  }
 },
 "nbformat": 4,
 "nbformat_minor": 2
}
