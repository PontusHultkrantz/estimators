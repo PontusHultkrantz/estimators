{
 "cells": [
  {
   "cell_type": "markdown",
   "metadata": {},
   "source": [
    "# James-Stein Estimator\n",
    "Estimate mean of correlated gaussian variables. JS estimator dominates the LSQ in mean squared error terms. I.e. the JS estimator of the mean yields lower mse than the simple sample mean.\n",
    "\n",
    "https://en.wikipedia.org/wiki/James%E2%80%93Stein_estimator"
   ]
  },
  {
   "cell_type": "code",
   "execution_count": 1,
   "metadata": {},
   "outputs": [],
   "source": [
    "def james_stein(est, n, mcov, guess=None):\n",
    "    ''' Specify guess for location other than at origin. '''\n",
    "    guess = np.zeros(mcov.shape[0]) if guess is None else guess\n",
    "    p = mcov.shape[0]\n",
    "    shrinkage = 1-(p-2)/((est-guess) @ np.linalg.inv(mcov) @ est)/n\n",
    "    shrinkage = max(shrinkage, 0)\n",
    "    return guess + shrinkage * (est - guess)\n",
    "\n",
    "def sqloss(est, target, mcov=None):\n",
    "    ''' Specify mcov for cov invariant squared loss.'''\n",
    "    mcov = np.eye(len(est)) if mcov is None else mcov\n",
    "    return (est - target) @ np.linalg.pinv(mcov) @ (est - target)\n",
    "\n",
    "def simulate_js_loss(dist, nsamples, loss_func, nsim):\n",
    "    loss = np.empty(nsim)\n",
    "    for i in range(nsim):\n",
    "        X = dist.rvs(nsamples)\n",
    "        mu_est = np.mean(X, axis=0)\n",
    "        mcov_est = np.cov(X, rowvar=False, ddof=1)\n",
    "        js = james_stein(mu_est, nsamples, mcov_est)\n",
    "        loss[i] = loss_func(js)\n",
    "    return loss"
   ]
  },
  {
   "cell_type": "code",
   "execution_count": 2,
   "metadata": {
    "scrolled": false
   },
   "outputs": [
    {
     "name": "stdout",
     "output_type": "stream",
     "text": [
      "H0: MSE_js_mu >= MSE_mle_mu\n",
      "H1: MSE_js_mu < MSE_mle_mu\n",
      "p-value 0.0000\n",
      "====> JS likely better at 0.05 level <====\n"
     ]
    }
   ],
   "source": [
    "import numpy as np\n",
    "import scipy.stats as stats\n",
    "from matplotlib import pyplot as plt\n",
    "\n",
    "# ---------------------------\n",
    "# --- Define distribution ---\n",
    "# ---------------------------\n",
    "# Number of dimensions.\n",
    "p = 3\n",
    "# Samples size.\n",
    "n = 10\n",
    "\n",
    "nsim= 5000\n",
    "\n",
    "# Arbitrary cov matrix and mean.\n",
    "mcov = np.diag(1+np.arange(p))\n",
    "mcov[1,1] *= 2\n",
    "mmu = np.arange(p)*0\n",
    "dist = stats.multivariate_normal(mean=mmu, cov=mcov)\n",
    "    \n",
    "# ---------------------------\n",
    "# ------- Simulate  ---------\n",
    "# ---------------------------\n",
    "# MSE of JS estimator.\n",
    "loss = lambda x: sqloss(x, mmu)\n",
    "mse_js = simulate_js_loss(dist, nsamples = n, loss_func=loss, nsim = nsim)\n",
    "mse_js_mu = (np.mean(mse_js), np.var(mse_js, ddof=1)/nsim )\n",
    "\n",
    "# Exact MSE of sample mean (MLE) estimator.\n",
    "mse_mle_mu = np.trace(mcov)/n\n",
    "\n",
    "# Histogram of diffed mse observations (negative values => JS mse lower).\n",
    "plt.hist(mse_js - mse_mle_mu, bins='auto', density=True)\n",
    "plt.grid()\n",
    "\n",
    "# Hypothesis test that JS is better.\n",
    "print('H0: MSE_js_mu >= MSE_mle_mu')\n",
    "print('H1: MSE_js_mu < MSE_mle_mu')\n",
    "zscore = (mse_js_mu[0] - mse_mle_mu) / np.sqrt(mse_js_mu[1])\n",
    "pval = stats.norm.cdf(zscore)\n",
    "print('p-value {:.4f}'.format(pval))\n",
    "alpha = 0.05\n",
    "print(f'====> JS likely better at {alpha} level <====') if pval < 0.05 else print(f'MLE likely better at {alpha} level')"
   ]
  }
 ],
 "metadata": {
  "kernelspec": {
   "display_name": "Python 3.7.3 64-bit ('ProgramData': virtualenv)",
   "language": "python",
   "name": "python37364bitprogramdatavirtualenv59ae48332b0b4b33804568dd65329faa"
  },
  "language_info": {
   "codemirror_mode": {
    "name": "ipython",
    "version": 3
   },
   "file_extension": ".py",
   "mimetype": "text/x-python",
   "name": "python",
   "nbconvert_exporter": "python",
   "pygments_lexer": "ipython3",
   "version": "3.7.3"
  }
 },
 "nbformat": 4,
 "nbformat_minor": 2
}
