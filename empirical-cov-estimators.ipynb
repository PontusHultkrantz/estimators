{
 "cells": [
  {
   "cell_type": "code",
   "execution_count": 1,
   "metadata": {},
   "outputs": [],
   "source": [
    "import numpy as np\n",
    "from scipy import stats\n",
    "import pandas as pd\n",
    "\n",
    "src = r\"C:\\Users\\bb1755\\Downloads\\eq_corr_cont_rt_20210215.csv\"\n",
    "df = pd.read_csv(src, header=None)"
   ]
  },
  {
   "cell_type": "code",
   "execution_count": 2,
   "metadata": {},
   "outputs": [],
   "source": [
    "mcorr = df.to_numpy(copy=True)\n",
    "#mcorr = np.nan_to_num(mcorr)\n",
    "#print(mcorr.shape)\n",
    "mask_col = np.isnan(mcorr).any(axis=1)\n",
    "mask_row = np.isnan(mcorr).any(axis=0)\n",
    "mcorr = mcorr[~mask_row][:, ~mask_col].copy()\n",
    "view = mcorr[:, :].copy()"
   ]
  },
  {
   "cell_type": "code",
   "execution_count": 3,
   "metadata": {},
   "outputs": [],
   "source": [
    "def cov_to_corr(cov):\n",
    "    vols = np.diag(cov)**0.5\n",
    "    return np.diag(1/vols) @  cov @ np.diag(1/vols)\n",
    "\n",
    "def calc_stats(cov, truecov, label):\n",
    "    cond = np.linalg.cond(cov)\n",
    "    fnorm = np.linalg.norm(cov - truecov, ord='fro')\n",
    "    print(f'{label} cond {cond} norm {fnorm}')"
   ]
  },
  {
   "cell_type": "code",
   "execution_count": 4,
   "metadata": {},
   "outputs": [],
   "source": [
    "import numpy as np,numpy.linalg\n",
    "\n",
    "def _getAplus(A):\n",
    "    eigval, eigvec = np.linalg.eig(A)\n",
    "    Q = np.matrix(eigvec)\n",
    "    xdiag = np.matrix(np.diag(np.maximum(eigval, 0)))\n",
    "    return Q*xdiag*Q.T\n",
    "\n",
    "def _getPs(A, W=None):\n",
    "    W05 = np.matrix(W**.5)\n",
    "    return  W05.I * _getAplus(W05 * A * W05) * W05.I\n",
    "\n",
    "def _getPu(A, W=None):\n",
    "    Aret = np.array(A.copy())\n",
    "    Aret[W > 0] = np.array(W)[W > 0]\n",
    "    return np.matrix(Aret)\n",
    "\n",
    "def nearPD(A, nit=10):\n",
    "    n = A.shape[0]\n",
    "    W = np.identity(n) \n",
    "# W is the matrix used for the norm (assumed to be Identity matrix here)\n",
    "# the algorithm should work for any diagonal W\n",
    "    deltaS = 0\n",
    "    Yk = A.copy()\n",
    "    for k in range(nit):\n",
    "        Rk = Yk - deltaS\n",
    "        Xk = _getPs(Rk, W=W)\n",
    "        deltaS = Xk - Rk\n",
    "        Yk = _getPu(Xk, W=W)\n",
    "    return Yk"
   ]
  },
  {
   "cell_type": "code",
   "execution_count": 5,
   "metadata": {},
   "outputs": [
    {
     "name": "stdout",
     "output_type": "stream",
     "text": [
      "base cond 4526573487.704492 norm 877.1612206309508\n"
     ]
    }
   ],
   "source": [
    "calc_stats(view, 0, 'base')"
   ]
  },
  {
   "cell_type": "code",
   "execution_count": 6,
   "metadata": {},
   "outputs": [
    {
     "name": "stdout",
     "output_type": "stream",
     "text": [
      "nearPD cond 1002092135.0792513 norm 0.06524672205573835\n"
     ]
    }
   ],
   "source": [
    "mcorr_near = nearPD(view)\n",
    "calc_stats(mcorr_near, view, 'nearPD')"
   ]
  },
  {
   "cell_type": "code",
   "execution_count": 7,
   "metadata": {},
   "outputs": [
    {
     "name": "stdout",
     "output_type": "stream",
     "text": [
      "nearPD2 cond 1103166786938163.4 norm 0.06696968637544393\n"
     ]
    }
   ],
   "source": [
    "from nearest_correlation import nearcorr\n",
    "\n",
    "mcorr_near2 = nearcorr(view, except_on_too_many_iterations=False)\n",
    "calc_stats(mcorr_near2, view, 'nearPD2')"
   ]
  },
  {
   "cell_type": "code",
   "execution_count": 8,
   "metadata": {},
   "outputs": [
    {
     "name": "stdout",
     "output_type": "stream",
     "text": [
      "LW cond 2151642.651608075 norm 795.332393608271\n"
     ]
    }
   ],
   "source": [
    "from sklearn.covariance import LedoitWolf\n",
    "lw_corr =  LedoitWolf().fit(view).covariance_\n",
    "lw_corr = cov_to_corr(lw_corr)\n",
    "calc_stats(lw_corr, view, 'LW')"
   ]
  },
  {
   "cell_type": "code",
   "execution_count": 9,
   "metadata": {},
   "outputs": [
    {
     "name": "stdout",
     "output_type": "stream",
     "text": [
      "MP cond 4190.858009735371 norm 562.3551198525003\n"
     ]
    }
   ],
   "source": [
    "from src.estimation.cov_cleaning import mp_denoise, RIE\n",
    "mp_cov = mp_denoise(view, view.shape[0], 6*30)\n",
    "mp_corr = cov_to_corr(mp_cov)\n",
    "calc_stats(mp_corr, view, 'MP')"
   ]
  },
  {
   "cell_type": "code",
   "execution_count": 10,
   "metadata": {},
   "outputs": [],
   "source": [
    "comp = lambda row,col : print(mp_corr[row,col], view[row,col])\n",
    "#comp(0, 8)"
   ]
  }
 ],
 "metadata": {
  "kernelspec": {
   "display_name": "Python 3.7.3 64-bit ('ProgramData': virtualenv)",
   "language": "python",
   "name": "python37364bitprogramdatavirtualenv59ae48332b0b4b33804568dd65329faa"
  },
  "language_info": {
   "codemirror_mode": {
    "name": "ipython",
    "version": 3
   },
   "file_extension": ".py",
   "mimetype": "text/x-python",
   "name": "python",
   "nbconvert_exporter": "python",
   "pygments_lexer": "ipython3",
   "version": "3.7.3"
  }
 },
 "nbformat": 4,
 "nbformat_minor": 2
}
